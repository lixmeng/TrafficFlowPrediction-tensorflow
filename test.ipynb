{
 "cells": [
  {
   "cell_type": "code",
   "execution_count": 1,
   "metadata": {},
   "outputs": [
    {
     "name": "stderr",
     "output_type": "stream",
     "text": [
      "/home/zhangbaojun/anaconda3/lib/python3.6/site-packages/h5py/__init__.py:36: FutureWarning: Conversion of the second argument of issubdtype from `float` to `np.floating` is deprecated. In future, it will be treated as `np.float64 == np.dtype(float).type`.\n",
      "  from ._conv import register_converters as _register_converters\n"
     ]
    }
   ],
   "source": [
    "import tensorflow as tf\n",
    "import numpy as np\n",
    "import os"
   ]
  },
  {
   "cell_type": "code",
   "execution_count": 2,
   "metadata": {},
   "outputs": [],
   "source": [
    "os.environ[\"CUDA_DEVICE_ORDER\"] = \"PCI_BUS_ID\"  \n",
    "os.environ[\"CUDA_VISIBLE_DEVICES\"]= \"-1\"\n",
    "tf.reset_default_graph()"
   ]
  },
  {
   "cell_type": "code",
   "execution_count": 3,
   "metadata": {},
   "outputs": [],
   "source": [
    "def read_TFRecords(example):\n",
    "    feats=tf.parse_single_example(example,features={'features':tf.FixedLenFeature([],tf.string),'label':tf.FixedLenFeature([],tf.float32)})\n",
    "    feature=tf.decode_raw(feats['features'],tf.float32)\n",
    "    feature=tf.reshape(feature,[12,1])\n",
    "    label=tf.reshape(feats['label'],[-1])\n",
    "    return feature,label"
   ]
  },
  {
   "cell_type": "code",
   "execution_count": 4,
   "metadata": {},
   "outputs": [],
   "source": [
    "test_name='/home/zhangbaojun/TrafficFlowPrediction-tensorflow/data/test_tfrecords'\n",
    "test_data=tf.data.TFRecordDataset(test_name).map(read_TFRecords).shuffle(1000).batch(256)"
   ]
  },
  {
   "cell_type": "code",
   "execution_count": 5,
   "metadata": {},
   "outputs": [
    {
     "name": "stdout",
     "output_type": "stream",
     "text": [
      "(?, 12, 1) (?, 1)\n"
     ]
    }
   ],
   "source": [
    "iter=tf.data.Iterator.from_structure(test_data.output_types,test_data.output_shapes)\n",
    "test_init_op=iter.make_initializer(test_data)\n",
    "features,labels=iter.get_next()\n",
    "print(np.shape(features),np.shape(labels))"
   ]
  },
  {
   "cell_type": "code",
   "execution_count": 6,
   "metadata": {},
   "outputs": [],
   "source": [
    "#x=tf.placeholder(dtype=tf.float32,shape=[None,12,1],name=\"features\")\n",
    "#y=tf.placeholder(dtype=tf.float32,shape=[None,1],name=\"labels\")"
   ]
  },
  {
   "cell_type": "code",
   "execution_count": 7,
   "metadata": {},
   "outputs": [],
   "source": [
    "# def load_model():\n",
    "#     saver=tf.train.import_meta_graph('/home/zhangbaojun/TrafficFlowPrediction-tensorflow/model/.meta')\n",
    "#     saver.restore(sess,tf.train.latest_checkpoint('/home/zhangbaojun/TrafficFlowPrediction-tensorflow/model/'))\n",
    "#     #saver=tf.train.get_checkpoint_state(\"/home/zhangbaojun/TrafficFlowPrediction-tensorflow/model/.meta\")\n",
    "#     #saver.restore(sess,ckpt.model_checkpoint_path)\n",
    "#     return saver"
   ]
  },
  {
   "cell_type": "code",
   "execution_count": 42,
   "metadata": {},
   "outputs": [],
   "source": [
    "def performance():\n",
    "    Y_test=sess.run(Y,feed_dict={Y:sess.run(labels)})\n",
    "    expectation = tf.cast(Y_test, tf.float32)\n",
    "    pre=tf.get_collection(\"pred_network\")[0]\n",
    "    predictions=sess.run(pre,feed_dict={X:sess.run(features)})\n",
    "    prediction=tf.convert_to_tensor(predictions)\n",
    "    mae_metric,mae_update=tf.metrics.mean_absolute_error(expectation,prediction)\n",
    "    mse_metric,mse_update=tf.metrics.mean_squared_error(expectation,prediction)\n",
    "    \n",
    "    residual = tf.reduce_sum(tf.square(tf.subtract(expectation, prediction)))\n",
    "    total = tf.reduce_sum(tf.square(tf.subtract(expectation, tf.reduce_mean(expectation))))\n",
    "    r2 = tf.subtract(1.0, tf.div(residual, total))\n",
    "    \n",
    "    tf.local_variables_initializer().run()\n",
    "    print(\"MAE:\",sess.run(mae_update),\"MSE:\",sess.run(mse_update),\"R_squared:\",sess.run(r2))\n",
    "    \n",
    "    \n"
   ]
  },
  {
   "cell_type": "code",
   "execution_count": 43,
   "metadata": {},
   "outputs": [],
   "source": [
    "#with tf.Session(config=tf.ConfigProto(gpu_options=gpu_options)) as sess:"
   ]
  },
  {
   "cell_type": "code",
   "execution_count": 44,
   "metadata": {},
   "outputs": [
    {
     "name": "stdout",
     "output_type": "stream",
     "text": [
      "INFO:tensorflow:Restoring parameters from /home/zhangbaojun/TrafficFlowPrediction-tensorflow/model/my_model\n",
      "MAE: 0.17415032 MSE: 0.043218356 R_squared: -0.18943882\n",
      "MAE: 0.19525176 MSE: 0.053437438 R_squared: -0.51535547\n",
      "MAE: 0.17608178 MSE: 0.044521406 R_squared: -0.337865\n",
      "MAE: 0.18212758 MSE: 0.04760856 R_squared: -0.3584845\n",
      "MAE: 0.17218287 MSE: 0.044207226 R_squared: -0.31544673\n"
     ]
    }
   ],
   "source": [
    "#gpu_options = tf.GPUOptions(per_process_gpu_memory_fraction=0.3)\n",
    "init=tf.global_variables_initializer()\n",
    "local=tf.local_variables_initializer()\n",
    "with tf.Session() as sess:\n",
    "    sess.run(init)\n",
    "    sess.run(test_init_op)\n",
    "    saver=tf.train.import_meta_graph('/home/zhangbaojun/TrafficFlowPrediction-tensorflow/model/my_model.meta')\n",
    "    saver.restore(sess,tf.train.latest_checkpoint('/home/zhangbaojun/TrafficFlowPrediction-tensorflow/model/'))\n",
    "    graph=tf.get_default_graph()\n",
    "    X=graph.get_operation_by_name(\"X\").outputs[0]\n",
    "    Y=graph.get_operation_by_name(\"Y\").outputs[0]\n",
    "    for i in range(0,5):\n",
    "        performance()\n",
    "    \n",
    "\n",
    "    "
   ]
  },
  {
   "cell_type": "code",
   "execution_count": null,
   "metadata": {},
   "outputs": [],
   "source": []
  },
  {
   "cell_type": "code",
   "execution_count": null,
   "metadata": {},
   "outputs": [],
   "source": []
  },
  {
   "cell_type": "code",
   "execution_count": null,
   "metadata": {},
   "outputs": [],
   "source": []
  },
  {
   "cell_type": "code",
   "execution_count": null,
   "metadata": {},
   "outputs": [],
   "source": []
  },
  {
   "cell_type": "code",
   "execution_count": null,
   "metadata": {},
   "outputs": [],
   "source": []
  },
  {
   "cell_type": "code",
   "execution_count": null,
   "metadata": {},
   "outputs": [],
   "source": []
  },
  {
   "cell_type": "code",
   "execution_count": null,
   "metadata": {},
   "outputs": [],
   "source": [
    "with tf.Session() as sess1:\n",
    "    sess1.run(init)\n",
    "    saver1=tf.train.import_meta_graph('/home/zhangbaojun/TrafficFlowPrediction-tensorflow/model/my_model.meta')\n",
    "    saver1.restore(sess1,tf.train.latest_checkpoint('/home/zhangbaojun/TrafficFlowPrediction-tensorflow/model/'))\n",
    "    graph1=tf.get_default_graph()\n",
    "    varible1_names=[v.name for v in tf.global_variables()]\n",
    "    values1=sess1.run(varible1_names)\n",
    "    for k,v in zip(varible1_names,values1):\n",
    "        print(\"Variable:\",k)\n",
    "        print(\"v.shape:\",v.shape)\n",
    "        #print(\"v.values:\",v)"
   ]
  },
  {
   "cell_type": "code",
   "execution_count": null,
   "metadata": {},
   "outputs": [],
   "source": []
  }
 ],
 "metadata": {
  "kernelspec": {
   "display_name": "Python 3",
   "language": "python",
   "name": "python3"
  },
  "language_info": {
   "codemirror_mode": {
    "name": "ipython",
    "version": 3
   },
   "file_extension": ".py",
   "mimetype": "text/x-python",
   "name": "python",
   "nbconvert_exporter": "python",
   "pygments_lexer": "ipython3",
   "version": "3.6.5"
  }
 },
 "nbformat": 4,
 "nbformat_minor": 2
}
