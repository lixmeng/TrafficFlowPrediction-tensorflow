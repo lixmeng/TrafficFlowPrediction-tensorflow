{
 "cells": [
  {
   "cell_type": "code",
   "execution_count": 363,
   "metadata": {},
   "outputs": [],
   "source": [
    "import numpy as np \n",
    "import pandas as pd\n",
    "from sklearn import preprocessing \n",
    "import tensorflow as tf\n",
    "import os"
   ]
  },
  {
   "cell_type": "code",
   "execution_count": 364,
   "metadata": {},
   "outputs": [],
   "source": [
    "train='/home/zhangbaojun/TrafficFlowPrediction-tensorflow/data/100211_all_train.csv'\n",
    "test='/home/zhangbaojun/TrafficFlowPrediction-tensorflow/data/100211_all_test.csv'\n",
    "train_data=pd.read_csv(train).fillna(0)\n",
    "test_data=pd.read_csv(test).fillna(0)"
   ]
  },
  {
   "cell_type": "markdown",
   "metadata": {},
   "source": [
    "MinMaxScaler（最小最大值标准化）\n",
    "　　公式：1、X_std = (X - X.min(axis=0)) / (X.max(axis=0) - X.min(axis=0))\n",
    "         2、X_scaler = X_std/ (max - min) + min"
   ]
  },
  {
   "cell_type": "code",
   "execution_count": 365,
   "metadata": {},
   "outputs": [
    {
     "name": "stderr",
     "output_type": "stream",
     "text": [
      "/home/zhangbaojun/anaconda3/lib/python3.6/site-packages/sklearn/utils/validation.py:475: DataConversionWarning: Data with input dtype int64 was converted to float64 by MinMaxScaler.\n",
      "  warnings.warn(msg, DataConversionWarning)\n"
     ]
    }
   ],
   "source": [
    "minmax=preprocessing.MinMaxScaler()\n",
    "train_minmax=minmax.fit_transform(train_data[\"volumn\"].values.reshape(-1,1))\n",
    "test_minmax=minmax.fit_transform(test_data[\"volumn\"].values.reshape(-1,1))"
   ]
  },
  {
   "cell_type": "code",
   "execution_count": 366,
   "metadata": {},
   "outputs": [],
   "source": [
    "train=[]\n",
    "test=[]\n",
    "for i in range(12, len(train_minmax)):\n",
    "    train.append(np.float32(train_minmax[i - 12: i + 1]))\n",
    "for i in range(12,len(test_minmax)):\n",
    "    test.append(np.float32(test_minmax[i-12:i+1]))"
   ]
  },
  {
   "cell_type": "code",
   "execution_count": 371,
   "metadata": {},
   "outputs": [
    {
     "name": "stdout",
     "output_type": "stream",
     "text": [
      "17474\n",
      "17474\n",
      "9153\n",
      "9153\n"
     ]
    }
   ],
   "source": [
    "train=np.array(train)\n",
    "test=np.array(test)\n",
    "#np.random.shuffle(train)\n",
    "X_train=train[:,0:-1]\n",
    "Y_train=train[:,-1]\n",
    "X_test=test[:,0:-1]\n",
    "Y_test=test[:,-1]\n",
    "print(len(X_train))\n",
    "print(len(Y_train))\n",
    "print(len(X_test))\n",
    "print(len(Y_test))\n"
   ]
  },
  {
   "cell_type": "markdown",
   "metadata": {},
   "source": [
    "TFrecords generate"
   ]
  },
  {
   "cell_type": "code",
   "execution_count": null,
   "metadata": {},
   "outputs": [],
   "source": [
    "train_tfrecords='/home/zhangbaojun/TrafficFlowPrediction-tensorflow/data/train_tfrecords'\n",
    "test_tfrecords='/home/zhangbaojun/TrafficFlowPrediction-tensorflow/data/test_tfrecords'\n",
    "\n",
    "train_writer=tf.python_io.TFRecordWriter(path=train_tfrecords)\n",
    "for i in range(0,len(X_train)):\n",
    "    features1 = tf.train.Features(\n",
    "        feature={\n",
    "            'features':tf.train.Feature(bytes_list=tf.train.BytesList(value=[X_train[i].tostring()])),\n",
    "            'label': tf.train.Feature(float_list=tf.train.FloatList(value=[Y_train[i]]))})\n",
    "    example=tf.train.Example(features=features1)\n",
    "    train_writer.write(example.SerializeToString())\n",
    "    print(X_train[i],Y_train[i])\n",
    "train_writer.close()\n",
    "\n",
    "test_write=tf.python_io.TFRecordWriter(path=test_tfrecords)\n",
    "for j in range(0,len(X_test)):\n",
    "    features2 = tf.train.Features(\n",
    "        feature = {\n",
    "            'features':tf.train.Feature(bytes_list=tf.train.BytesList(value=[X_test[j].tostring()])),\n",
    "            'label':tf.train.Feature(float_list=tf.train.FloatList(value=[Y_test[j]]))})\n",
    "    example=tf.train.Example(features=features2)\n",
    "    test_write.write(example.SerializeToString())\n",
    "test_write.close()"
   ]
  },
  {
   "cell_type": "code",
   "execution_count": null,
   "metadata": {},
   "outputs": [],
   "source": []
  },
  {
   "cell_type": "code",
   "execution_count": null,
   "metadata": {},
   "outputs": [],
   "source": []
  }
 ],
 "metadata": {
  "kernelspec": {
   "display_name": "Python 3",
   "language": "python",
   "name": "python3"
  },
  "language_info": {
   "codemirror_mode": {
    "name": "ipython",
    "version": 3
   },
   "file_extension": ".py",
   "mimetype": "text/x-python",
   "name": "python",
   "nbconvert_exporter": "python",
   "pygments_lexer": "ipython3",
   "version": "3.6.5"
  }
 },
 "nbformat": 4,
 "nbformat_minor": 2
}
