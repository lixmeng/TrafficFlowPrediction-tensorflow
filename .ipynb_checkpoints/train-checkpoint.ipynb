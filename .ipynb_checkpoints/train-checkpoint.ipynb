{
 "cells": [
  {
   "cell_type": "markdown",
   "metadata": {},
   "source": [
    "TFrecords read"
   ]
  },
  {
   "cell_type": "code",
   "execution_count": 87,
   "metadata": {},
   "outputs": [],
   "source": [
    "import os\n",
    "import tensorflow as tf\n",
    "import numpy as np"
   ]
  },
  {
   "cell_type": "code",
   "execution_count": 88,
   "metadata": {},
   "outputs": [],
   "source": [
    "os.environ[\"CUDA_DEVICE_ORDER\"] = \"PCI_BUS_ID\"  \n",
    "os.environ[\"CUDA_VISIBLE_DEVICES\"]= \"-1\"\n",
    "tf.reset_default_graph()"
   ]
  },
  {
   "cell_type": "code",
   "execution_count": 89,
   "metadata": {},
   "outputs": [],
   "source": [
    "def read_TFRecords(example):\n",
    "    feats=tf.parse_single_example(example,features={'features': tf.FixedLenFeature([],tf.string),'label':tf.FixedLenFeature([],tf.float32)})\n",
    "    feature = tf.decode_raw(feats['features'],tf.float32)\n",
    "    feature=tf.reshape(feature,[12,1])\n",
    "    label=tf.reshape(feats['label'],[-1])\n",
    "    #lable=tf.decode_raw(feats['label'],tf.float32)\n",
    "    return feature, label"
   ]
  },
  {
   "cell_type": "code",
   "execution_count": 90,
   "metadata": {},
   "outputs": [],
   "source": [
    "train_name='/home/zhangbaojun/TrafficFlowPrediction-tensorflow/data/train_tfrecords'\n",
    "train_data=tf.data.TFRecordDataset(train_name).map(read_TFRecords).shuffle(1000).batch(256)"
   ]
  },
  {
   "cell_type": "code",
   "execution_count": 91,
   "metadata": {},
   "outputs": [
    {
     "name": "stdout",
     "output_type": "stream",
     "text": [
      "(?, 12, 1)\n",
      "(?, 1)\n"
     ]
    }
   ],
   "source": [
    "iter=tf.data.Iterator.from_structure(train_data.output_types,train_data.output_shapes)\n",
    "train_init_op=iter.make_initializer(train_data)\n",
    "features, labels = iter.get_next()\n",
    "print(np.shape(features))\n",
    "print(np.shape(labels))"
   ]
  },
  {
   "cell_type": "code",
   "execution_count": null,
   "metadata": {},
   "outputs": [],
   "source": [
    "#测试读数据，note: 迭代的是一直迭代下去的， sess.run(features) sess.run(labels) 执行了两个迭代过程，千万注意，要保持features和labels的对应关系，亦必须把两个放到统一sess.run()里面\n",
    "init =tf.global_variables_initializer()\n",
    "with tf.Session() as sess:\n",
    "    sess.run(init)\n",
    "    sess.run(train_init_op)\n",
    "    #print(sess.run(features.get_shape()))\n",
    "    for epoch in range(0,1000):\n",
    "        try:\n",
    "            print(sess.run(features))\n",
    "           # print(sess.run(labels))\n",
    "        except tf.errors.OutOfRangeError:\n",
    "            break"
   ]
  },
  {
   "cell_type": "markdown",
   "metadata": {},
   "source": [
    "models GRU"
   ]
  },
  {
   "cell_type": "code",
   "execution_count": 92,
   "metadata": {},
   "outputs": [],
   "source": [
    "#声明X Y\n",
    "#X=tf.placeholder_with_default(features,[None,12,1],name=\"feature\")\n",
    "#Y=tf.placeholder_with_default(labels,[None,1],name=\"labels\")"
   ]
  },
  {
   "cell_type": "code",
   "execution_count": 93,
   "metadata": {},
   "outputs": [],
   "source": [
    "def models():\n",
    "    X=tf.placeholder(dtype=tf.float32,shape=[None,12,1],name=\"X\")\n",
    "    Y=tf.placeholder(dtype=tf.float32,shape=[None,1],name=\"Y\")\n",
    "    gru1=tf.contrib.rnn.GRUCell(64,name=\"gru1\")\n",
    "    gru2=tf.contrib.rnn.GRUCell(64,name=\"gru2\")\n",
    "    gru1_out,_=tf.nn.static_rnn(gru1,tf.unstack(X,axis=1),dtype=tf.float32)\n",
    "    print(\"gru1_out\",np.shape(gru1_out))\n",
    "    gru2_out,_=tf.nn.static_rnn(gru2,gru1_out,dtype=tf.float32)\n",
    "    print(\"gru2_out\",np.shape(gru2_out))\n",
    "    \n",
    "    bi_stack = tf.stack(gru2_out, axis=1)\n",
    "    print(\"bi_stack:\",np.shape(bi_stack))\n",
    "    mean=tf.reduce_mean(bi_stack,axis=1)\n",
    "    print(\"mean:\",np.shape(mean))\n",
    "    dropout=tf.nn.dropout(mean,keep_prob=0.2,name=\"dropout\")\n",
    "    dense=tf.layers.dense(inputs=dropout,units=1,name=\"dense\")\n",
    "    print(\"dense\",np.shape(dense))\n",
    "    tf.add_to_collection(\"pred_network\",dense)\n",
    "    return X,Y,dense\n"
   ]
  },
  {
   "cell_type": "code",
   "execution_count": 94,
   "metadata": {},
   "outputs": [
    {
     "name": "stdout",
     "output_type": "stream",
     "text": [
      "gru1_out (12,)\n",
      "gru2_out (12,)\n",
      "bi_stack: (?, 12, 64)\n",
      "mean: (?, 64)\n",
      "dense (?, 1)\n",
      "(?, 1)\n"
     ]
    }
   ],
   "source": [
    "X,Y,pre=models()\n",
    "print(np.shape(pre))\n",
    "#l_pre=tf.sigmoid(pre,name=\"l_pre\")\n",
    "loss_op=tf.losses.mean_squared_error(Y,pre)\n",
    "# optimizer=tf.train.GradientDescentOptimizer(0.01).minimize(loss_op)\n",
    "optimizer=tf.train.RMSPropOptimizer(0.01).minimize(loss_op)\n",
    "\n",
    "init =tf.global_variables_initializer()"
   ]
  },
  {
   "cell_type": "code",
   "execution_count": 96,
   "metadata": {},
   "outputs": [],
   "source": [
    "#训练\n",
    "def train():\n",
    "    for epoch in range(600):\n",
    "        try:\n",
    "            _,loss=sess.run([optimizer,loss_op],feed_dict={X:sess.run(features),Y:sess.run(labels)})\n",
    "            print(\"loss:\",loss)\n",
    "        except tf.errors.OutOfRangeError:\n",
    "            break    "
   ]
  },
  {
   "cell_type": "code",
   "execution_count": 97,
   "metadata": {},
   "outputs": [],
   "source": [
    "#保存模型\n",
    "def save_model():\n",
    "    saver=tf.train.Saver()\n",
    "    saver.save(sess, '/home/zhangbaojun/TrafficFlowPrediction-tensorflow/model/my_model')\n"
   ]
  },
  {
   "cell_type": "code",
   "execution_count": 98,
   "metadata": {},
   "outputs": [
    {
     "name": "stdout",
     "output_type": "stream",
     "text": [
      "loss: 0.18221778\n",
      "loss: 0.15012388\n",
      "loss: 0.116833575\n",
      "loss: 0.1097021\n",
      "loss: 0.08106011\n",
      "loss: 0.06937544\n",
      "loss: 0.062775366\n",
      "loss: 0.06853008\n",
      "loss: 0.050541524\n",
      "loss: 0.05324185\n",
      "loss: 0.06361201\n",
      "loss: 0.07733089\n",
      "loss: 0.08195801\n",
      "loss: 0.08860716\n",
      "loss: 0.075895295\n",
      "loss: 0.07158539\n",
      "loss: 0.071781024\n",
      "loss: 0.06337607\n",
      "loss: 0.053536102\n",
      "loss: 0.055707976\n",
      "loss: 0.044574894\n",
      "loss: 0.03555406\n",
      "loss: 0.041709445\n",
      "loss: 0.04936808\n",
      "loss: 0.04487761\n",
      "loss: 0.043899693\n",
      "loss: 0.053120784\n",
      "loss: 0.042845175\n",
      "loss: 0.038477562\n",
      "loss: 0.03609015\n",
      "loss: 0.032621756\n",
      "loss: 0.027049486\n",
      "loss: 0.02411823\n",
      "loss: 0.023443468\n"
     ]
    }
   ],
   "source": [
    "with tf.Session() as sess:\n",
    "    sess.run(init)\n",
    "    sess.run(train_init_op)\n",
    "    train()\n",
    "    save_model()"
   ]
  },
  {
   "cell_type": "code",
   "execution_count": null,
   "metadata": {},
   "outputs": [],
   "source": []
  }
 ],
 "metadata": {
  "kernelspec": {
   "display_name": "Python 3",
   "language": "python",
   "name": "python3"
  },
  "language_info": {
   "codemirror_mode": {
    "name": "ipython",
    "version": 3
   },
   "file_extension": ".py",
   "mimetype": "text/x-python",
   "name": "python",
   "nbconvert_exporter": "python",
   "pygments_lexer": "ipython3",
   "version": "3.6.5"
  }
 },
 "nbformat": 4,
 "nbformat_minor": 2
}
